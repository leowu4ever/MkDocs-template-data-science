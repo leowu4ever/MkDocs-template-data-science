{
 "cells": [
  {
   "attachments": {},
   "cell_type": "markdown",
   "metadata": {},
   "source": [
    "# Car class demo\n",
    "In this notebook, I show you how to get the brand and the number of wheels of a car created."
   ]
  },
  {
   "cell_type": "code",
   "execution_count": 1,
   "metadata": {},
   "outputs": [
    {
     "name": "stdout",
     "output_type": "stream",
     "text": [
      "my fancy POSH car has 6 wheels\n"
     ]
    }
   ],
   "source": [
    "from car import Car\n",
    "\n",
    "fancy_car = Car(num_of_wheels=6, brand='POSH')\n",
    "print(f'my fancy {fancy_car.brand} car has {fancy_car.num_of_wheels} wheels')"
   ]
  }
 ],
 "metadata": {
  "kernelspec": {
   "display_name": "Python 3",
   "language": "python",
   "name": "python3"
  },
  "language_info": {
   "codemirror_mode": {
    "name": "ipython",
    "version": 3
   },
   "file_extension": ".py",
   "mimetype": "text/x-python",
   "name": "python",
   "nbconvert_exporter": "python",
   "pygments_lexer": "ipython3",
   "version": "3.10.4"
  },
  "orig_nbformat": 4
 },
 "nbformat": 4,
 "nbformat_minor": 2
}
